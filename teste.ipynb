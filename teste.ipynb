{
 "cells": [
  {
   "cell_type": "code",
   "execution_count": 1,
   "id": "3a8e5288",
   "metadata": {},
   "outputs": [],
   "source": [
    "import numpy as np\n",
    "\n",
    "contexts = np.array([\n",
    "    [1, 0, 0],\n",
    "    [0, 1, 0],\n",
    "    [0, 0, 1],\n",
    "    [10, 0, 0],\n",
    "    [1, 0, 0],\n",
    "    [0, 1, 0],\n",
    "    [0, 0, 1],\n",
    "    [0, 10, 0],\n",
    "    [1, 0, 0],\n",
    "    [0, 1, 0],\n",
    "    [0, 0, 1],\n",
    "    [0, 0, 10]\n",
    "])\n",
    "items_ids = np.array([\n",
    "    'abacate',\n",
    "    'abacate',\n",
    "    'abacate',\n",
    "    'abacate',\n",
    "    'banana',\n",
    "    'banana',\n",
    "    'banana',\n",
    "    'banana',\n",
    "    'laranja',\n",
    "    'laranja',\n",
    "    'laranja',\n",
    "    'laranja'\n",
    "])\n",
    "rewards = np.array([\n",
    "    1,\n",
    "    0,\n",
    "    0,\n",
    "    1,\n",
    "    0,\n",
    "    1,\n",
    "    0,\n",
    "    1,\n",
    "    0,\n",
    "    0,\n",
    "    1,\n",
    "    1\n",
    "])"
   ]
  },
  {
   "cell_type": "code",
   "execution_count": 2,
   "id": "dd4d5237",
   "metadata": {},
   "outputs": [],
   "source": [
    "import gobrec"
   ]
  },
  {
   "cell_type": "code",
   "execution_count": 3,
   "id": "a3ad6c45",
   "metadata": {},
   "outputs": [],
   "source": [
    "lin_gobrec = gobrec.mabs.lin_mabs.Lin(seed=1, items_per_batch=1)"
   ]
  },
  {
   "cell_type": "code",
   "execution_count": 4,
   "id": "60285bfa",
   "metadata": {},
   "outputs": [],
   "source": [
    "lin_gobrec.fit(\n",
    "    contexts=contexts,\n",
    "    items_ids=items_ids,\n",
    "    rewards=rewards\n",
    ")"
   ]
  },
  {
   "cell_type": "code",
   "execution_count": 5,
   "id": "f218dfc0",
   "metadata": {},
   "outputs": [
    {
     "data": {
      "text/plain": [
       "tensor([[0.1078, 0.0000, 0.0000],\n",
       "        [0.0000, 0.1078, 0.0000],\n",
       "        [0.0000, 0.0000, 0.1078],\n",
       "        [1.0784, 0.0000, 0.0000],\n",
       "        [0.0000, 1.0784, 0.0000],\n",
       "        [0.0000, 0.0000, 1.0784]], dtype=torch.float64)"
      ]
     },
     "execution_count": 5,
     "metadata": {},
     "output_type": "execute_result"
    }
   ],
   "source": [
    "lin_gobrec.predict(\n",
    "    contexts=np.array([\n",
    "        [1, 0, 0],\n",
    "        [0, 1, 0],\n",
    "        [0, 0, 1],\n",
    "        [10, 0, 0],\n",
    "        [0, 10, 0],\n",
    "        [0, 0, 10]\n",
    "    ])\n",
    ")"
   ]
  },
  {
   "cell_type": "code",
   "execution_count": 6,
   "id": "f1c421bd",
   "metadata": {},
   "outputs": [],
   "source": [
    "gobrec_recommender = gobrec.Recommender(\n",
    "    mab_algo=gobrec.mabs.lin_mabs.Lin(seed=1, items_per_batch=1),\n",
    "    top_k=3\n",
    ")"
   ]
  },
  {
   "cell_type": "code",
   "execution_count": 7,
   "id": "51b0027a",
   "metadata": {},
   "outputs": [],
   "source": [
    "gobrec_recommender.fit(\n",
    "    contexts=contexts,\n",
    "    items_ids=items_ids,\n",
    "    rewards=rewards\n",
    ")"
   ]
  },
  {
   "cell_type": "code",
   "execution_count": 8,
   "id": "03c54923",
   "metadata": {},
   "outputs": [
    {
     "data": {
      "text/plain": [
       "(array([['abacate', 'banana', 'laranja'],\n",
       "        ['banana', 'abacate', 'laranja'],\n",
       "        ['laranja', 'abacate', 'banana'],\n",
       "        ['abacate', 'banana', 'laranja'],\n",
       "        ['banana', 'abacate', 'laranja'],\n",
       "        ['laranja', 'abacate', 'banana']], dtype='<U7'),\n",
       " array([[0.10784314, 0.        , 0.        ],\n",
       "        [0.10784314, 0.        , 0.        ],\n",
       "        [0.10784314, 0.        , 0.        ],\n",
       "        [1.07843137, 0.        , 0.        ],\n",
       "        [1.07843137, 0.        , 0.        ],\n",
       "        [1.07843137, 0.        , 0.        ]]))"
      ]
     },
     "execution_count": 8,
     "metadata": {},
     "output_type": "execute_result"
    }
   ],
   "source": [
    "gobrec_recommender.recommend(\n",
    "    contexts=np.array([\n",
    "        [1, 0, 0],\n",
    "        [0, 1, 0],\n",
    "        [0, 0, 1],\n",
    "        [10, 0, 0],\n",
    "        [0, 10, 0],\n",
    "        [0, 0, 10]\n",
    "    ])\n",
    ")"
   ]
  },
  {
   "cell_type": "code",
   "execution_count": 9,
   "id": "ae30b256",
   "metadata": {},
   "outputs": [],
   "source": [
    "import mab2rec"
   ]
  },
  {
   "cell_type": "code",
   "execution_count": 10,
   "id": "079c6db7",
   "metadata": {},
   "outputs": [],
   "source": [
    "mab2rec_recommender = mab2rec.BanditRecommender(learning_policy=mab2rec.LearningPolicy.LinGreedy(epsilon=0), top_k=3)\n",
    "mab2rec_recommender.fit(\n",
    "    contexts=contexts,\n",
    "    decisions=items_ids,\n",
    "    rewards=rewards\n",
    ")"
   ]
  },
  {
   "cell_type": "code",
   "execution_count": 11,
   "id": "4582fcf0",
   "metadata": {},
   "outputs": [
    {
     "data": {
      "text/plain": [
       "([['abacate', 'laranja', 'banana'],\n",
       "  ['banana', 'laranja', 'abacate'],\n",
       "  ['laranja', 'banana', 'abacate'],\n",
       "  ['abacate', 'laranja', 'banana'],\n",
       "  ['banana', 'laranja', 'abacate'],\n",
       "  ['laranja', 'banana', 'abacate']],\n",
       " [[0.10784313725490197, 0.0, 0.0],\n",
       "  [0.10784313725490197, 0.0, 0.0],\n",
       "  [0.10784313725490197, 0.0, 0.0],\n",
       "  [1.0784313725490198, 0.0, 0.0],\n",
       "  [1.0784313725490198, 0.0, 0.0],\n",
       "  [1.0784313725490198, 0.0, 0.0]])"
      ]
     },
     "execution_count": 11,
     "metadata": {},
     "output_type": "execute_result"
    }
   ],
   "source": [
    "mab2rec_recommender.recommend(\n",
    "    contexts=np.array([\n",
    "        [1, 0, 0],\n",
    "        [0, 1, 0],\n",
    "        [0, 0, 1],\n",
    "        [10, 0, 0],\n",
    "        [0, 10, 0],\n",
    "        [0, 0, 10]\n",
    "    ]),\n",
    "    return_scores=True,\n",
    "    apply_sigmoid=False\n",
    ")"
   ]
  },
  {
   "cell_type": "code",
   "execution_count": 12,
   "id": "83137b25",
   "metadata": {},
   "outputs": [],
   "source": [
    "gobrec_recommender = gobrec.Recommender(\n",
    "    mab_algo=gobrec.mabs.lin_mabs.LinUCB(alpha=0.1, seed=1, items_per_batch=1),\n",
    "    top_k=3\n",
    ")"
   ]
  },
  {
   "cell_type": "code",
   "execution_count": 13,
   "id": "09f61558",
   "metadata": {},
   "outputs": [],
   "source": [
    "gobrec_recommender.fit(\n",
    "    contexts=contexts,\n",
    "    items_ids=items_ids,\n",
    "    rewards=rewards\n",
    ")"
   ]
  },
  {
   "cell_type": "code",
   "execution_count": 14,
   "id": "2de54608",
   "metadata": {},
   "outputs": [
    {
     "data": {
      "text/plain": [
       "(array([['abacate', 'banana', 'laranja'],\n",
       "        ['banana', 'abacate', 'laranja'],\n",
       "        ['laranja', 'abacate', 'banana'],\n",
       "        ['abacate', 'banana', 'laranja'],\n",
       "        ['banana', 'abacate', 'laranja'],\n",
       "        ['laranja', 'abacate', 'banana']], dtype='<U7'),\n",
       " array([[0.11774461, 0.07071068, 0.07071068],\n",
       "        [0.11774461, 0.07071068, 0.07071068],\n",
       "        [0.11774461, 0.07071068, 0.07071068],\n",
       "        [1.17744613, 0.70710678, 0.70710678],\n",
       "        [1.17744613, 0.70710678, 0.70710678],\n",
       "        [1.17744613, 0.70710678, 0.70710678]]))"
      ]
     },
     "execution_count": 14,
     "metadata": {},
     "output_type": "execute_result"
    }
   ],
   "source": [
    "gobrec_recommender.recommend(\n",
    "    contexts=np.array([\n",
    "        [1, 0, 0],\n",
    "        [0, 1, 0],\n",
    "        [0, 0, 1],\n",
    "        [10, 0, 0],\n",
    "        [0, 10, 0],\n",
    "        [0, 0, 10]\n",
    "    ])\n",
    ")"
   ]
  },
  {
   "cell_type": "code",
   "execution_count": 15,
   "id": "ec107ffc",
   "metadata": {},
   "outputs": [],
   "source": [
    "mab2rec_recommender = mab2rec.BanditRecommender(learning_policy=mab2rec.LearningPolicy.LinUCB(alpha=0.1), top_k=3)\n",
    "mab2rec_recommender.fit(\n",
    "    contexts=contexts,\n",
    "    decisions=items_ids,\n",
    "    rewards=rewards\n",
    ")"
   ]
  },
  {
   "cell_type": "code",
   "execution_count": 16,
   "id": "dd4536ee",
   "metadata": {},
   "outputs": [
    {
     "data": {
      "text/plain": [
       "([['abacate', 'laranja', 'banana'],\n",
       "  ['banana', 'laranja', 'abacate'],\n",
       "  ['laranja', 'banana', 'abacate'],\n",
       "  ['abacate', 'laranja', 'banana'],\n",
       "  ['banana', 'laranja', 'abacate'],\n",
       "  ['laranja', 'banana', 'abacate']],\n",
       " [[0.11774461268466871, 0.07071067811865477, 0.07071067811865477],\n",
       "  [0.11774461268466871, 0.07071067811865477, 0.07071067811865477],\n",
       "  [0.11774461268466871, 0.07071067811865477, 0.07071067811865477],\n",
       "  [1.1774461268466871, 0.7071067811865476, 0.7071067811865476],\n",
       "  [1.1774461268466871, 0.7071067811865476, 0.7071067811865476],\n",
       "  [1.1774461268466871, 0.7071067811865476, 0.7071067811865476]])"
      ]
     },
     "execution_count": 16,
     "metadata": {},
     "output_type": "execute_result"
    }
   ],
   "source": [
    "mab2rec_recommender.recommend(\n",
    "    contexts=np.array([\n",
    "        [1, 0, 0],\n",
    "        [0, 1, 0],\n",
    "        [0, 0, 1],\n",
    "        [10, 0, 0],\n",
    "        [0, 10, 0],\n",
    "        [0, 0, 10]\n",
    "    ]),\n",
    "    return_scores=True,\n",
    "    apply_sigmoid=False\n",
    ")"
   ]
  },
  {
   "cell_type": "code",
   "execution_count": 17,
   "id": "a7d3e912",
   "metadata": {},
   "outputs": [
    {
     "data": {
      "text/plain": [
       "(array([['banana', 'laranja', 'abacate'],\n",
       "        ['abacate', 'laranja', 'banana'],\n",
       "        ['abacate', 'banana', 'laranja'],\n",
       "        ['abacate', 'banana', 'laranja'],\n",
       "        ['banana', 'abacate', 'laranja'],\n",
       "        ['laranja', 'abacate', 'banana']], dtype='<U7'),\n",
       " array([[ 7.07106781e-02,  7.07106781e-02, -1.00000000e+02],\n",
       "        [ 7.07106781e-02,  7.07106781e-02, -1.00000000e+02],\n",
       "        [ 7.07106781e-02,  7.07106781e-02, -1.00000000e+02],\n",
       "        [ 1.17744613e+00,  7.07106781e-01,  7.07106781e-01],\n",
       "        [ 1.17744613e+00,  7.07106781e-01,  7.07106781e-01],\n",
       "        [ 1.17744613e+00,  7.07106781e-01,  7.07106781e-01]]))"
      ]
     },
     "execution_count": 17,
     "metadata": {},
     "output_type": "execute_result"
    }
   ],
   "source": [
    "gobrec_recommender.recommend(\n",
    "    contexts=np.array([\n",
    "        [1, 0, 0],\n",
    "        [0, 1, 0],\n",
    "        [0, 0, 1],\n",
    "        [10, 0, 0],\n",
    "        [0, 10, 0],\n",
    "        [0, 0, 10]\n",
    "    ]),\n",
    "    items_ids_filter=[\n",
    "        np.array([0, 1, 2]),\n",
    "        np.array(['abacate', 'banana', 'laranja'])\n",
    "    ]\n",
    ")"
   ]
  },
  {
   "cell_type": "code",
   "execution_count": 18,
   "id": "2a83f859",
   "metadata": {},
   "outputs": [],
   "source": [
    "gobrec_recommender = gobrec.Recommender(\n",
    "    mab_algo=gobrec.mabs.lin_mabs.LinGreedy(seed=1, items_per_batch=1, epsilon=0.6),\n",
    "    top_k=3\n",
    ")"
   ]
  },
  {
   "cell_type": "code",
   "execution_count": 19,
   "id": "4e0e29eb",
   "metadata": {},
   "outputs": [],
   "source": [
    "gobrec_recommender.fit(\n",
    "    contexts=contexts,\n",
    "    items_ids=items_ids,\n",
    "    rewards=rewards\n",
    ")"
   ]
  },
  {
   "cell_type": "code",
   "execution_count": 20,
   "id": "1415be4d",
   "metadata": {},
   "outputs": [
    {
     "data": {
      "text/plain": [
       "(array([['abacate', 'laranja', 'banana'],\n",
       "        ['banana', 'abacate', 'laranja'],\n",
       "        ['banana', 'laranja', 'abacate'],\n",
       "        ['abacate', 'banana', 'laranja'],\n",
       "        ['banana', 'abacate', 'laranja'],\n",
       "        ['abacate', 'laranja', 'banana']], dtype='<U7'),\n",
       " array([[0.82770259, 0.54959369, 0.40919914],\n",
       "        [0.10784314, 0.        , 0.        ],\n",
       "        [0.75351311, 0.53814331, 0.02755911],\n",
       "        [1.07843137, 0.        , 0.        ],\n",
       "        [0.7884287 , 0.32973172, 0.30319483],\n",
       "        [0.45349789, 0.40311299, 0.1340417 ]]))"
      ]
     },
     "execution_count": 20,
     "metadata": {},
     "output_type": "execute_result"
    }
   ],
   "source": [
    "gobrec_recommender.recommend(\n",
    "    contexts=np.array([\n",
    "        [1, 0, 0],\n",
    "        [0, 1, 0],\n",
    "        [0, 0, 1],\n",
    "        [10, 0, 0],\n",
    "        [0, 10, 0],\n",
    "        [0, 0, 10]\n",
    "    ])\n",
    ")"
   ]
  },
  {
   "cell_type": "code",
   "execution_count": 21,
   "id": "d6cbe45f",
   "metadata": {},
   "outputs": [],
   "source": [
    "mab2rec_recommender = mab2rec.BanditRecommender(learning_policy=mab2rec.LearningPolicy.LinGreedy(epsilon=0.6), top_k=3, seed=1)\n",
    "mab2rec_recommender.fit(\n",
    "    contexts=contexts,\n",
    "    decisions=items_ids,\n",
    "    rewards=rewards\n",
    ")"
   ]
  },
  {
   "cell_type": "code",
   "execution_count": 22,
   "id": "a89f3e15",
   "metadata": {},
   "outputs": [
    {
     "data": {
      "text/plain": [
       "([['abacate', 'laranja', 'banana'],\n",
       "  ['banana', 'laranja', 'abacate'],\n",
       "  ['banana', 'laranja', 'abacate'],\n",
       "  ['abacate', 'laranja', 'banana'],\n",
       "  ['banana', 'abacate', 'laranja'],\n",
       "  ['abacate', 'laranja', 'banana']],\n",
       " [[0.8277025938204418, 0.5495936876730595, 0.4091991363691613],\n",
       "  [0.10784313725490197, 0.0, 0.0],\n",
       "  [0.7535131086748066, 0.5381433132192782, 0.027559113243068367],\n",
       "  [1.0784313725490198, 0.0, 0.0],\n",
       "  [0.7884287034284043, 0.32973171649909216, 0.303194829291645],\n",
       "  [0.4534978894806515, 0.40311298644712923, 0.13404169724716475]])"
      ]
     },
     "execution_count": 22,
     "metadata": {},
     "output_type": "execute_result"
    }
   ],
   "source": [
    "mab2rec_recommender.recommend(\n",
    "    contexts=np.array([\n",
    "        [1, 0, 0],\n",
    "        [0, 1, 0],\n",
    "        [0, 0, 1],\n",
    "        [10, 0, 0],\n",
    "        [0, 10, 0],\n",
    "        [0, 0, 10]\n",
    "    ]),\n",
    "    return_scores=True,\n",
    "    apply_sigmoid=False\n",
    ")"
   ]
  },
  {
   "cell_type": "code",
   "execution_count": 23,
   "id": "73307e9a",
   "metadata": {},
   "outputs": [],
   "source": [
    "gobrec_recommender = gobrec.Recommender(\n",
    "    mab_algo=gobrec.mabs.lin_mabs.LinTS(seed=1, items_per_batch=1, alpha=0.1),\n",
    "    top_k=3\n",
    ")"
   ]
  },
  {
   "cell_type": "code",
   "execution_count": 24,
   "id": "3684b081",
   "metadata": {},
   "outputs": [],
   "source": [
    "gobrec_recommender.fit(\n",
    "    contexts=contexts,\n",
    "    items_ids=items_ids,\n",
    "    rewards=rewards\n",
    ")"
   ]
  },
  {
   "cell_type": "code",
   "execution_count": 25,
   "id": "79bdf41c",
   "metadata": {},
   "outputs": [
    {
     "data": {
      "text/plain": [
       "(array([['abacate', 'banana', 'laranja'],\n",
       "        ['banana', 'abacate', 'laranja'],\n",
       "        ['laranja', 'abacate', 'banana'],\n",
       "        ['abacate', 'banana', 'laranja'],\n",
       "        ['banana', 'abacate', 'laranja'],\n",
       "        ['laranja', 'abacate', 'banana']], dtype='<U7'),\n",
       " array([[ 0.11126493,  0.02443649,  0.02443649],\n",
       "        [ 0.1168075 ,  0.06401833,  0.06401833],\n",
       "        [ 0.11145294,  0.02577916,  0.02577916],\n",
       "        [ 1.10755483,  0.20798308,  0.20798308],\n",
       "        [ 1.06230088, -0.11519473, -0.11519473],\n",
       "        [ 1.04947384, -0.20679815, -0.20679815]]))"
      ]
     },
     "execution_count": 25,
     "metadata": {},
     "output_type": "execute_result"
    }
   ],
   "source": [
    "gobrec_recommender.recommend(\n",
    "    contexts=np.array([\n",
    "        [1, 0, 0],\n",
    "        [0, 1, 0],\n",
    "        [0, 0, 1],\n",
    "        [10, 0, 0],\n",
    "        [0, 10, 0],\n",
    "        [0, 0, 10]\n",
    "    ])\n",
    ")"
   ]
  },
  {
   "cell_type": "code",
   "execution_count": 26,
   "id": "35583c82",
   "metadata": {},
   "outputs": [],
   "source": [
    "mab2rec_recommender = mab2rec.BanditRecommender(learning_policy=mab2rec.LearningPolicy.LinTS(alpha=0.1), top_k=3, seed=1)\n",
    "mab2rec_recommender.fit(\n",
    "    contexts=contexts,\n",
    "    decisions=items_ids,\n",
    "    rewards=rewards\n",
    ")"
   ]
  },
  {
   "cell_type": "code",
   "execution_count": 27,
   "id": "ed605f8f",
   "metadata": {},
   "outputs": [
    {
     "data": {
      "text/plain": [
       "([['abacate', 'laranja', 'banana'],\n",
       "  ['banana', 'laranja', 'abacate'],\n",
       "  ['laranja', 'banana', 'abacate'],\n",
       "  ['abacate', 'laranja', 'banana'],\n",
       "  ['banana', 'laranja', 'abacate'],\n",
       "  ['laranja', 'banana', 'abacate']],\n",
       " [[0.11126493064154723, 0.024436492567988452, 0.024436492567988452],\n",
       "  [0.11680749612396102, 0.06401832727115855, 0.06401832727115855],\n",
       "  [0.11145294187810958, 0.02577916135766028, 0.02577916135766028],\n",
       "  [1.107554829436326, 0.207983082952452, 0.207983082952452],\n",
       "  [1.0623008840758417, -0.11519472894863544, -0.11519472894863544],\n",
       "  [1.0494738392095173, -0.20679815181119957, -0.20679815181119957]])"
      ]
     },
     "execution_count": 27,
     "metadata": {},
     "output_type": "execute_result"
    }
   ],
   "source": [
    "mab2rec_recommender.recommend(\n",
    "    contexts=np.array([\n",
    "        [1, 0, 0],\n",
    "        [0, 1, 0],\n",
    "        [0, 0, 1],\n",
    "        [10, 0, 0],\n",
    "        [0, 10, 0],\n",
    "        [0, 0, 10]\n",
    "    ]),\n",
    "    return_scores=True,\n",
    "    apply_sigmoid=False\n",
    ")"
   ]
  }
 ],
 "metadata": {
  "kernelspec": {
   "display_name": "weighted-sims",
   "language": "python",
   "name": "python3"
  },
  "language_info": {
   "codemirror_mode": {
    "name": "ipython",
    "version": 3
   },
   "file_extension": ".py",
   "mimetype": "text/x-python",
   "name": "python",
   "nbconvert_exporter": "python",
   "pygments_lexer": "ipython3",
   "version": "3.8.0"
  }
 },
 "nbformat": 4,
 "nbformat_minor": 5
}
