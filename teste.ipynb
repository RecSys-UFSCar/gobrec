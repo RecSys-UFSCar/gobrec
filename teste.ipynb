{
 "cells": [
  {
   "cell_type": "code",
   "execution_count": 1,
   "id": "3a8e5288",
   "metadata": {},
   "outputs": [],
   "source": [
    "import numpy as np\n",
    "\n",
    "contexts = np.array([\n",
    "    [1, 0, 0],\n",
    "    [0, 1, 0],\n",
    "    [0, 0, 1],\n",
    "    [10, 0, 0],\n",
    "    [1, 0, 0],\n",
    "    [0, 1, 0],\n",
    "    [0, 0, 1],\n",
    "    [0, 10, 0],\n",
    "    [1, 0, 0],\n",
    "    [0, 1, 0],\n",
    "    [0, 0, 1],\n",
    "    [0, 0, 10]\n",
    "])\n",
    "items_ids = np.array([\n",
    "    'abacate',\n",
    "    'abacate',\n",
    "    'abacate',\n",
    "    'abacate',\n",
    "    'banana',\n",
    "    'banana',\n",
    "    'banana',\n",
    "    'banana',\n",
    "    'laranja',\n",
    "    'laranja',\n",
    "    'laranja',\n",
    "    'laranja'\n",
    "])\n",
    "rewards = np.array([\n",
    "    1,\n",
    "    0,\n",
    "    0,\n",
    "    1,\n",
    "    0,\n",
    "    1,\n",
    "    0,\n",
    "    1,\n",
    "    0,\n",
    "    0,\n",
    "    1,\n",
    "    1\n",
    "])"
   ]
  },
  {
   "cell_type": "code",
   "execution_count": 2,
   "id": "dd4d5237",
   "metadata": {},
   "outputs": [
    {
     "ename": "ModuleNotFoundError",
     "evalue": "No module named 'gobrec.gobrec'",
     "output_type": "error",
     "traceback": [
      "\u001b[0;31m---------------------------------------------------------------------------\u001b[0m",
      "\u001b[0;31mModuleNotFoundError\u001b[0m                       Traceback (most recent call last)",
      "Cell \u001b[0;32mIn[2], line 1\u001b[0m\n\u001b[0;32m----> 1\u001b[0m \u001b[38;5;28;01mfrom\u001b[39;00m \u001b[38;5;21;01mgobrec\u001b[39;00m\u001b[38;5;21;01m.\u001b[39;00m\u001b[38;5;21;01mlin_mabs\u001b[39;00m \u001b[38;5;28;01mimport\u001b[39;00m Lin\n",
      "File \u001b[0;32m/workspace/gregorio/gobrec/gobrec/__init__.py:2\u001b[0m\n\u001b[0;32m----> 2\u001b[0m \u001b[38;5;28;01mfrom\u001b[39;00m \u001b[38;5;21;01mgobrec\u001b[39;00m\u001b[38;5;21;01m.\u001b[39;00m\u001b[38;5;21;01mRecommender\u001b[39;00m \u001b[38;5;28;01mimport\u001b[39;00m Recommender\n",
      "File \u001b[0;32m/workspace/gregorio/gobrec/gobrec/Recommender.py:2\u001b[0m\n\u001b[0;32m----> 2\u001b[0m \u001b[38;5;28;01mfrom\u001b[39;00m \u001b[38;5;21;01mgobrec\u001b[39;00m\u001b[38;5;21;01m.\u001b[39;00m\u001b[38;5;21;01mgobrec\u001b[39;00m\u001b[38;5;21;01m.\u001b[39;00m\u001b[38;5;21;01mlin_mabs\u001b[39;00m\u001b[38;5;21;01m.\u001b[39;00m\u001b[38;5;21;01mLin\u001b[39;00m \u001b[38;5;28;01mimport\u001b[39;00m Lin\n\u001b[1;32m      3\u001b[0m \u001b[38;5;28;01mimport\u001b[39;00m \u001b[38;5;21;01mnumpy\u001b[39;00m \u001b[38;5;28;01mas\u001b[39;00m \u001b[38;5;21;01mnp\u001b[39;00m\n\u001b[1;32m      4\u001b[0m \u001b[38;5;28;01mimport\u001b[39;00m \u001b[38;5;21;01mtorch\u001b[39;00m\n",
      "\u001b[0;31mModuleNotFoundError\u001b[0m: No module named 'gobrec.gobrec'"
     ]
    }
   ],
   "source": [
    "from gobrec.lin_mabs import Lin"
   ]
  },
  {
   "cell_type": "code",
   "execution_count": null,
   "id": "a3ad6c45",
   "metadata": {},
   "outputs": [],
   "source": [
    "lin_gobrec = Lin(seed=1)"
   ]
  },
  {
   "cell_type": "code",
   "execution_count": null,
   "id": "60285bfa",
   "metadata": {},
   "outputs": [],
   "source": [
    "lin_gobrec.fit(\n",
    "    contexts=contexts,\n",
    "    items_ids=items_ids,\n",
    "    rewards=rewards\n",
    ")"
   ]
  },
  {
   "cell_type": "code",
   "execution_count": null,
   "id": "f218dfc0",
   "metadata": {},
   "outputs": [
    {
     "data": {
      "text/plain": [
       "tensor([[0.1078, 0.0000, 0.0000],\n",
       "        [0.0000, 0.1078, 0.0000],\n",
       "        [0.0000, 0.0000, 0.1078],\n",
       "        [1.0784, 0.0000, 0.0000],\n",
       "        [0.0000, 1.0784, 0.0000],\n",
       "        [0.0000, 0.0000, 1.0784]], dtype=torch.float64)"
      ]
     },
     "execution_count": 5,
     "metadata": {},
     "output_type": "execute_result"
    }
   ],
   "source": [
    "lin_gobrec.predict(\n",
    "    contexts=np.array([\n",
    "        [1, 0, 0],\n",
    "        [0, 1, 0],\n",
    "        [0, 0, 1],\n",
    "        [10, 0, 0],\n",
    "        [0, 10, 0],\n",
    "        [0, 0, 10]\n",
    "    ])\n",
    ")"
   ]
  }
 ],
 "metadata": {
  "kernelspec": {
   "display_name": "weighted-sims",
   "language": "python",
   "name": "python3"
  },
  "language_info": {
   "codemirror_mode": {
    "name": "ipython",
    "version": 3
   },
   "file_extension": ".py",
   "mimetype": "text/x-python",
   "name": "python",
   "nbconvert_exporter": "python",
   "pygments_lexer": "ipython3",
   "version": "3.8.0"
  }
 },
 "nbformat": 4,
 "nbformat_minor": 5
}
