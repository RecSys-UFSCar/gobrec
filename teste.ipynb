{
 "cells": [
  {
   "cell_type": "code",
   "execution_count": 1,
   "id": "3a8e5288",
   "metadata": {},
   "outputs": [],
   "source": [
    "import numpy as np\n",
    "\n",
    "contexts = np.array([\n",
    "    [1, 0, 0],\n",
    "    [0, 1, 0],\n",
    "    [0, 0, 1],\n",
    "    [10, 0, 0],\n",
    "    [1, 0, 0],\n",
    "    [0, 1, 0],\n",
    "    [0, 0, 1],\n",
    "    [0, 10, 0],\n",
    "    [1, 0, 0],\n",
    "    [0, 1, 0],\n",
    "    [0, 0, 1],\n",
    "    [0, 0, 10]\n",
    "])\n",
    "items_ids = np.array([\n",
    "    'abacate',\n",
    "    'abacate',\n",
    "    'abacate',\n",
    "    'abacate',\n",
    "    'banana',\n",
    "    'banana',\n",
    "    'banana',\n",
    "    'banana',\n",
    "    'laranja',\n",
    "    'laranja',\n",
    "    'laranja',\n",
    "    'laranja'\n",
    "])\n",
    "rewards = np.array([\n",
    "    1,\n",
    "    0,\n",
    "    0,\n",
    "    1,\n",
    "    0,\n",
    "    1,\n",
    "    0,\n",
    "    1,\n",
    "    0,\n",
    "    0,\n",
    "    1,\n",
    "    1\n",
    "])"
   ]
  },
  {
   "cell_type": "code",
   "execution_count": 2,
   "id": "dd4d5237",
   "metadata": {},
   "outputs": [],
   "source": [
    "import gobrec"
   ]
  },
  {
   "cell_type": "code",
   "execution_count": 3,
   "id": "a3ad6c45",
   "metadata": {},
   "outputs": [],
   "source": [
    "lin_gobrec = gobrec.mabs.lin_mabs.Lin(seed=1)"
   ]
  },
  {
   "cell_type": "code",
   "execution_count": 4,
   "id": "60285bfa",
   "metadata": {},
   "outputs": [],
   "source": [
    "lin_gobrec.fit(\n",
    "    contexts=contexts,\n",
    "    items_ids=items_ids,\n",
    "    rewards=rewards\n",
    ")"
   ]
  },
  {
   "cell_type": "code",
   "execution_count": 5,
   "id": "f218dfc0",
   "metadata": {},
   "outputs": [
    {
     "data": {
      "text/plain": [
       "tensor([[0.1078, 0.0000, 0.0000],\n",
       "        [0.0000, 0.1078, 0.0000],\n",
       "        [0.0000, 0.0000, 0.1078],\n",
       "        [1.0784, 0.0000, 0.0000],\n",
       "        [0.0000, 1.0784, 0.0000],\n",
       "        [0.0000, 0.0000, 1.0784]], dtype=torch.float64)"
      ]
     },
     "execution_count": 5,
     "metadata": {},
     "output_type": "execute_result"
    }
   ],
   "source": [
    "lin_gobrec.predict(\n",
    "    contexts=np.array([\n",
    "        [1, 0, 0],\n",
    "        [0, 1, 0],\n",
    "        [0, 0, 1],\n",
    "        [10, 0, 0],\n",
    "        [0, 10, 0],\n",
    "        [0, 0, 10]\n",
    "    ])\n",
    ")"
   ]
  },
  {
   "cell_type": "code",
   "execution_count": 6,
   "id": "f1c421bd",
   "metadata": {},
   "outputs": [],
   "source": [
    "gobrec_recommender = gobrec.Recommender(\n",
    "    mab_algo=gobrec.mabs.lin_mabs.Lin(seed=1),\n",
    "    top_k=3\n",
    ")"
   ]
  },
  {
   "cell_type": "code",
   "execution_count": 7,
   "id": "51b0027a",
   "metadata": {},
   "outputs": [],
   "source": [
    "gobrec_recommender.fit(\n",
    "    contexts=contexts,\n",
    "    items_ids=items_ids,\n",
    "    rewards=rewards\n",
    ")"
   ]
  },
  {
   "cell_type": "code",
   "execution_count": 8,
   "id": "03c54923",
   "metadata": {},
   "outputs": [
    {
     "data": {
      "text/plain": [
       "(array([['abacate', 'banana', 'laranja'],\n",
       "        ['banana', 'abacate', 'laranja'],\n",
       "        ['laranja', 'abacate', 'banana'],\n",
       "        ['abacate', 'banana', 'laranja'],\n",
       "        ['banana', 'abacate', 'laranja'],\n",
       "        ['laranja', 'abacate', 'banana']], dtype='<U7'),\n",
       " array([[0.10784314, 0.        , 0.        ],\n",
       "        [0.10784314, 0.        , 0.        ],\n",
       "        [0.10784314, 0.        , 0.        ],\n",
       "        [1.07843137, 0.        , 0.        ],\n",
       "        [1.07843137, 0.        , 0.        ],\n",
       "        [1.07843137, 0.        , 0.        ]]))"
      ]
     },
     "execution_count": 8,
     "metadata": {},
     "output_type": "execute_result"
    }
   ],
   "source": [
    "gobrec_recommender.recommend(\n",
    "    contexts=np.array([\n",
    "        [1, 0, 0],\n",
    "        [0, 1, 0],\n",
    "        [0, 0, 1],\n",
    "        [10, 0, 0],\n",
    "        [0, 10, 0],\n",
    "        [0, 0, 10]\n",
    "    ])\n",
    ")"
   ]
  },
  {
   "cell_type": "code",
   "execution_count": 9,
   "id": "ae30b256",
   "metadata": {},
   "outputs": [],
   "source": [
    "import mab2rec"
   ]
  },
  {
   "cell_type": "code",
   "execution_count": 10,
   "id": "079c6db7",
   "metadata": {},
   "outputs": [],
   "source": [
    "mab2rec_recommender = mab2rec.BanditRecommender(learning_policy=mab2rec.LearningPolicy.LinGreedy(epsilon=0), top_k=3)\n",
    "mab2rec_recommender.fit(\n",
    "    contexts=contexts,\n",
    "    decisions=items_ids,\n",
    "    rewards=rewards\n",
    ")"
   ]
  },
  {
   "cell_type": "code",
   "execution_count": 11,
   "id": "4582fcf0",
   "metadata": {},
   "outputs": [
    {
     "data": {
      "text/plain": [
       "([['abacate', 'laranja', 'banana'],\n",
       "  ['banana', 'laranja', 'abacate'],\n",
       "  ['laranja', 'banana', 'abacate'],\n",
       "  ['abacate', 'laranja', 'banana'],\n",
       "  ['banana', 'laranja', 'abacate'],\n",
       "  ['laranja', 'banana', 'abacate']],\n",
       " [[0.10784313725490197, 0.0, 0.0],\n",
       "  [0.10784313725490197, 0.0, 0.0],\n",
       "  [0.10784313725490197, 0.0, 0.0],\n",
       "  [1.0784313725490198, 0.0, 0.0],\n",
       "  [1.0784313725490198, 0.0, 0.0],\n",
       "  [1.0784313725490198, 0.0, 0.0]])"
      ]
     },
     "execution_count": 11,
     "metadata": {},
     "output_type": "execute_result"
    }
   ],
   "source": [
    "mab2rec_recommender.recommend(\n",
    "    contexts=np.array([\n",
    "        [1, 0, 0],\n",
    "        [0, 1, 0],\n",
    "        [0, 0, 1],\n",
    "        [10, 0, 0],\n",
    "        [0, 10, 0],\n",
    "        [0, 0, 10]\n",
    "    ]),\n",
    "    return_scores=True,\n",
    "    apply_sigmoid=False\n",
    ")"
   ]
  },
  {
   "cell_type": "code",
   "execution_count": 15,
   "id": "83137b25",
   "metadata": {},
   "outputs": [],
   "source": [
    "gobrec_recommender = gobrec.Recommender(\n",
    "    mab_algo=gobrec.mabs.lin_mabs.LinUCB(alpha=0.1, seed=1),\n",
    "    top_k=3\n",
    ")"
   ]
  },
  {
   "cell_type": "code",
   "execution_count": 16,
   "id": "09f61558",
   "metadata": {},
   "outputs": [],
   "source": [
    "gobrec_recommender.fit(\n",
    "    contexts=contexts,\n",
    "    items_ids=items_ids,\n",
    "    rewards=rewards\n",
    ")"
   ]
  },
  {
   "cell_type": "code",
   "execution_count": 17,
   "id": "2de54608",
   "metadata": {},
   "outputs": [
    {
     "data": {
      "text/plain": [
       "(array([['abacate', 'banana', 'laranja'],\n",
       "        ['banana', 'abacate', 'laranja'],\n",
       "        ['laranja', 'abacate', 'banana'],\n",
       "        ['abacate', 'banana', 'laranja'],\n",
       "        ['banana', 'abacate', 'laranja'],\n",
       "        ['laranja', 'abacate', 'banana']], dtype='<U7'),\n",
       " array([[0.11774461, 0.07071068, 0.07071068],\n",
       "        [0.11774461, 0.07071068, 0.07071068],\n",
       "        [0.11774461, 0.07071068, 0.07071068],\n",
       "        [1.17744613, 0.70710678, 0.70710678],\n",
       "        [1.17744613, 0.70710678, 0.70710678],\n",
       "        [1.17744613, 0.70710678, 0.70710678]]))"
      ]
     },
     "execution_count": 17,
     "metadata": {},
     "output_type": "execute_result"
    }
   ],
   "source": [
    "gobrec_recommender.recommend(\n",
    "    contexts=np.array([\n",
    "        [1, 0, 0],\n",
    "        [0, 1, 0],\n",
    "        [0, 0, 1],\n",
    "        [10, 0, 0],\n",
    "        [0, 10, 0],\n",
    "        [0, 0, 10]\n",
    "    ])\n",
    ")"
   ]
  },
  {
   "cell_type": "code",
   "execution_count": 18,
   "id": "ec107ffc",
   "metadata": {},
   "outputs": [],
   "source": [
    "mab2rec_recommender = mab2rec.BanditRecommender(learning_policy=mab2rec.LearningPolicy.LinUCB(alpha=0.1), top_k=3)\n",
    "mab2rec_recommender.fit(\n",
    "    contexts=contexts,\n",
    "    decisions=items_ids,\n",
    "    rewards=rewards\n",
    ")"
   ]
  },
  {
   "cell_type": "code",
   "execution_count": 19,
   "id": "dd4536ee",
   "metadata": {},
   "outputs": [
    {
     "data": {
      "text/plain": [
       "([['abacate', 'laranja', 'banana'],\n",
       "  ['banana', 'laranja', 'abacate'],\n",
       "  ['laranja', 'banana', 'abacate'],\n",
       "  ['abacate', 'laranja', 'banana'],\n",
       "  ['banana', 'laranja', 'abacate'],\n",
       "  ['laranja', 'banana', 'abacate']],\n",
       " [[0.11774461268466871, 0.07071067811865477, 0.07071067811865477],\n",
       "  [0.11774461268466871, 0.07071067811865477, 0.07071067811865477],\n",
       "  [0.11774461268466871, 0.07071067811865477, 0.07071067811865477],\n",
       "  [1.1774461268466871, 0.7071067811865476, 0.7071067811865476],\n",
       "  [1.1774461268466871, 0.7071067811865476, 0.7071067811865476],\n",
       "  [1.1774461268466871, 0.7071067811865476, 0.7071067811865476]])"
      ]
     },
     "execution_count": 19,
     "metadata": {},
     "output_type": "execute_result"
    }
   ],
   "source": [
    "mab2rec_recommender.recommend(\n",
    "    contexts=np.array([\n",
    "        [1, 0, 0],\n",
    "        [0, 1, 0],\n",
    "        [0, 0, 1],\n",
    "        [10, 0, 0],\n",
    "        [0, 10, 0],\n",
    "        [0, 0, 10]\n",
    "    ]),\n",
    "    return_scores=True,\n",
    "    apply_sigmoid=False\n",
    ")"
   ]
  }
 ],
 "metadata": {
  "kernelspec": {
   "display_name": "weighted-sims",
   "language": "python",
   "name": "python3"
  },
  "language_info": {
   "codemirror_mode": {
    "name": "ipython",
    "version": 3
   },
   "file_extension": ".py",
   "mimetype": "text/x-python",
   "name": "python",
   "nbconvert_exporter": "python",
   "pygments_lexer": "ipython3",
   "version": "3.8.0"
  }
 },
 "nbformat": 4,
 "nbformat_minor": 5
}
