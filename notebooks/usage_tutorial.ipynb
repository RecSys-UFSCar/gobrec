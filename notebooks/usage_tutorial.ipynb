{
 "cells": [
  {
   "cell_type": "code",
   "execution_count": null,
   "id": "f9fbb91c",
   "metadata": {},
   "outputs": [
    {
     "data": {
      "text/plain": [
       "tensor([[1.7247, 1.2247, 1.4142],\n",
       "        [1.4142, 1.2247, 1.7247]], device='cuda:0', dtype=torch.float64)"
      ]
     },
     "execution_count": 2,
     "metadata": {},
     "output_type": "execute_result"
    }
   ],
   "source": [
    "import numpy as np\n",
    "from gobrec.mabs.lin_mabs import LinUCB                 # Import LinUCB as an example, it could be also LinTS or LinGreedy\n",
    "\n",
    "contexts = np.array([[1, 0, 0], [0, 1, 0], [0, 0, 1]])  # A batch of contexts for training.\n",
    "decisions = np.array(['a', 1, 2])                       # Corresponding decisions taken, it can be str or int\n",
    "rewards = np.array([1, 0, 1])                           # Corresponding rewards received\n",
    "\n",
    "bandit = LinUCB(seed=42, use_gpu=True)                  # Initialize the bandit. A seed is set for reproducibility and GPU usage can be on or off\n",
    "\n",
    "bandit.fit(contexts, decisions, rewards)                # Fit the model with the training data\n",
    "\n",
    "bandit.predict(np.array([[1, 1, 0], [0, 1, 1]]))        # Predict scores for each arm (item) given a batch of contexts"
   ]
  },
  {
   "cell_type": "code",
   "execution_count": null,
   "id": "5872a885",
   "metadata": {},
   "outputs": [
    {
     "data": {
      "text/plain": [
       "(array([['a', '2'],\n",
       "        ['2', 'a']], dtype='<U1'),\n",
       " array([[1.72474487, 1.41421356],\n",
       "        [1.72474487, 1.41421356]]))"
      ]
     },
     "execution_count": 3,
     "metadata": {},
     "output_type": "execute_result"
    }
   ],
   "source": [
    "import numpy as np\n",
    "import gobrec\n",
    "from gobrec.mabs.lin_mabs import LinUCB                 # Import LinUCB as an example, it could be also LinTS or LinGreedy\n",
    "\n",
    "contexts = np.array([[1, 0, 0], [0, 1, 0], [0, 0, 1]])  # A batch of contexts for training.\n",
    "decisions = np.array(['a', 1, 2])                       # Corresponding decisions taken, it can be str or int\n",
    "rewards = np.array([1, 0, 1])                           # Corresponding rewards received\n",
    "\n",
    "recommender = gobrec.Recommender(\n",
    "    mab_algo=LinUCB(seed=42, use_gpu=True),             # The recommender can use any implementation following the MABAlgo interface\n",
    "    top_k=2                                             # Number of items to recommend\n",
    ")\n",
    "\n",
    "recommender.fit(contexts, decisions, rewards)           # Fit the model with the training data\n",
    "\n",
    "recommender.recommend(np.array([[1, 1, 0], [0, 1, 1]])) # Recommend top_k items given a batch of contexts"
   ]
  }
 ],
 "metadata": {
  "kernelspec": {
   "display_name": "weighted-sims",
   "language": "python",
   "name": "python3"
  },
  "language_info": {
   "codemirror_mode": {
    "name": "ipython",
    "version": 3
   },
   "file_extension": ".py",
   "mimetype": "text/x-python",
   "name": "python",
   "nbconvert_exporter": "python",
   "pygments_lexer": "ipython3",
   "version": "3.8.0"
  }
 },
 "nbformat": 4,
 "nbformat_minor": 5
}
