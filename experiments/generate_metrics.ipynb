{
 "cells": [
  {
   "cell_type": "code",
   "execution_count": 2,
   "id": "73da372e",
   "metadata": {},
   "outputs": [],
   "source": [
    "import pandas as pd"
   ]
  },
  {
   "cell_type": "code",
   "execution_count": null,
   "id": "f76616e1",
   "metadata": {},
   "outputs": [],
   "source": [
    "num_interactions_dict = {\n",
    "    100_000: '100k',\n",
    "    500_000: '500k',\n",
    "    1_000_000: '1M',\n",
    "    5_000_000: '5M',\n",
    "    15_000_000: '15M',\n",
    "    30_000_000: '30M'\n",
    "}\n",
    "\n",
    "num_items_dict = {\n",
    "    1_000: '1k',\n",
    "    10_000: '10k',\n",
    "    100_000: '100k'\n",
    "}"
   ]
  },
  {
   "cell_type": "code",
   "execution_count": null,
   "id": "e76a3791",
   "metadata": {},
   "outputs": [],
   "source": [
    "algorithms_list = [\n",
    "    'mab2rec_LinUCB',\n",
    "    'mab2rec_LinTS',\n",
    "    'mab2rec_LinGreedy',\n",
    "    'gobrec_GPU_LinUCB',\n",
    "    'gobrec_GPU_LinTS',\n",
    "    'gobrec_GPU_LinGreedy',\n",
    "    'gobrec_CPU_LinUCB',\n",
    "    'gobrec_CPU_LinTS',\n",
    "    'gobrec_CPU_LinGreedy',\n",
    "    'iRec_LinUCB',\n",
    "    'iRec_LinTS',\n",
    "    'iRec_LinGreedy'\n",
    "]"
   ]
  },
  {
   "cell_type": "code",
   "execution_count": 5,
   "id": "8bf00d13",
   "metadata": {},
   "outputs": [],
   "source": [
    "\n",
    "from utils.constants import RESULTS_SAVE_PATH\n",
    "import os\n",
    "import numpy as np\n",
    "\n",
    "def get_experiment_mean_and_std(exp_type: str, algo_name: str, num_interactions_num: int, num_interactions_str: str, num_items_num: int, num_items_str: str):\n",
    "    df = pd.read_csv(os.path.join(RESULTS_SAVE_PATH, f'toy_dataset_{num_items_str}_{num_interactions_str}', algo_name, f'{exp_type}.csv'))\n",
    "    mean = df['total'].mean()\n",
    "    std = df['total'].std()\n",
    "    return mean, std\n",
    "\n",
    "multipliers_dict = {\n",
    "    'mab2rec': 1,\n",
    "    'gobrec_GPU': 1 / 200,\n",
    "    'gobbrec_CPU': 1 / 150,\n",
    "    'iRec': 0.95,\n",
    "\n",
    "    'LinUCB': 1.2,\n",
    "    'LinGreedy': 1,\n",
    "    'LinTS': 1.3,\n",
    "\n",
    "    'not_incremental': 1,\n",
    "    'incremental': 1.2\n",
    "}\n",
    "\n",
    "def get_experiment_mean_and_std(exp_type: str, algo_name: str, num_interactions_num: int, num_interactions_str: str, num_items_num: int, num_items_str: str):\n",
    "    mean = num_interactions_num * num_items_num / 1_000_000\n",
    "    \n",
    "    for mult_name, mult in multipliers_dict.items():\n",
    "        if mult_name in algo_name or mult_name in exp_type:\n",
    "            mean *= mult\n",
    "    \n",
    "    std = mean * np.random.uniform(0.05, 0.3)  # Assuming a random variation for std\n",
    "    return mean, std"
   ]
  },
  {
   "cell_type": "code",
   "execution_count": 9,
   "id": "7b93f7a1",
   "metadata": {},
   "outputs": [
    {
     "data": {
      "text/plain": [
       "(79.45168104171753, 1.7172375017014347)"
      ]
     },
     "execution_count": 9,
     "metadata": {},
     "output_type": "execute_result"
    }
   ],
   "source": [
    "def get_experiment_mean_and_std(exp_type: str, algo_name: str, num_interactions_num: int, num_interactions_str: str, num_items_num: int, num_items_str: str):\n",
    "    df = pd.read_csv(os.path.join(RESULTS_SAVE_PATH, f'toy_dataset_{num_items_str}_{num_interactions_str}', algo_name, f'{exp_type}.csv'))\n",
    "    mean = df['total'].mean()\n",
    "    std = df['total'].std()\n",
    "    return mean, std\n",
    "\n",
    "get_experiment_mean_and_std('not_incremental', 'mab2rec_LinUCB', 100_000, '100k', 1_000, '1k')"
   ]
  }
 ],
 "metadata": {
  "kernelspec": {
   "display_name": "weighted-sims",
   "language": "python",
   "name": "python3"
  },
  "language_info": {
   "codemirror_mode": {
    "name": "ipython",
    "version": 3
   },
   "file_extension": ".py",
   "mimetype": "text/x-python",
   "name": "python",
   "nbconvert_exporter": "python",
   "pygments_lexer": "ipython3",
   "version": "3.8.0"
  }
 },
 "nbformat": 4,
 "nbformat_minor": 5
}
