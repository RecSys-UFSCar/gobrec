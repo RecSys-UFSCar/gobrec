{
 "cells": [
  {
   "cell_type": "code",
   "execution_count": 23,
   "id": "8db1e844",
   "metadata": {},
   "outputs": [],
   "source": [
    "from generate_toy_datasets import load_or_generate_toy_dataset"
   ]
  },
  {
   "cell_type": "code",
   "execution_count": 24,
   "id": "6510ff49",
   "metadata": {},
   "outputs": [],
   "source": [
    "df, contexts = load_or_generate_toy_dataset(\n",
    "    num_items=1_000,\n",
    "    num_interactions=1_000_000,\n",
    "    save_path='toy_dataset1',\n",
    ")"
   ]
  },
  {
   "cell_type": "code",
   "execution_count": 25,
   "id": "f8661fb9",
   "metadata": {},
   "outputs": [
    {
     "data": {
      "text/plain": [
       "1000"
      ]
     },
     "execution_count": 25,
     "metadata": {},
     "output_type": "execute_result"
    }
   ],
   "source": [
    "df['item_id'].nunique()"
   ]
  },
  {
   "cell_type": "code",
   "execution_count": 26,
   "id": "8f1d76a3",
   "metadata": {},
   "outputs": [
    {
     "data": {
      "text/plain": [
       "0.299516"
      ]
     },
     "execution_count": 26,
     "metadata": {},
     "output_type": "execute_result"
    }
   ],
   "source": [
    "df['rating'].mean()"
   ]
  },
  {
   "cell_type": "code",
   "execution_count": 27,
   "id": "93f17876",
   "metadata": {},
   "outputs": [
    {
     "data": {
      "text/plain": [
       "(1000000, 32)"
      ]
     },
     "execution_count": 27,
     "metadata": {},
     "output_type": "execute_result"
    }
   ],
   "source": [
    "contexts.shape"
   ]
  },
  {
   "cell_type": "code",
   "execution_count": 28,
   "id": "66f9bbb6",
   "metadata": {},
   "outputs": [],
   "source": [
    "df2, contexts2 = load_or_generate_toy_dataset(\n",
    "    num_items=100_000,\n",
    "    num_interactions=30_000_000,\n",
    "    save_path='toy_dataset2',\n",
    ")"
   ]
  },
  {
   "cell_type": "code",
   "execution_count": 29,
   "id": "75c25400",
   "metadata": {},
   "outputs": [
    {
     "data": {
      "text/plain": [
       "100000"
      ]
     },
     "execution_count": 29,
     "metadata": {},
     "output_type": "execute_result"
    }
   ],
   "source": [
    "df2['item_id'].nunique()"
   ]
  },
  {
   "cell_type": "code",
   "execution_count": 30,
   "id": "5fa84b9e",
   "metadata": {},
   "outputs": [
    {
     "data": {
      "text/plain": [
       "0.299834"
      ]
     },
     "execution_count": 30,
     "metadata": {},
     "output_type": "execute_result"
    }
   ],
   "source": [
    "df2['rating'].mean()"
   ]
  },
  {
   "cell_type": "code",
   "execution_count": 31,
   "id": "d293d217",
   "metadata": {},
   "outputs": [
    {
     "data": {
      "text/plain": [
       "(30000000, 32)"
      ]
     },
     "execution_count": 31,
     "metadata": {},
     "output_type": "execute_result"
    }
   ],
   "source": [
    "contexts2.shape"
   ]
  },
  {
   "cell_type": "code",
   "execution_count": 32,
   "id": "f32768a1",
   "metadata": {},
   "outputs": [],
   "source": [
    "df3, contexts3 = load_or_generate_toy_dataset(\n",
    "    num_items=1_000,\n",
    "    num_interactions=1_000_000,\n",
    "    save_path='toy_dataset3',\n",
    ")"
   ]
  },
  {
   "cell_type": "code",
   "execution_count": 33,
   "id": "fcc0ca5e",
   "metadata": {},
   "outputs": [
    {
     "data": {
      "text/plain": [
       "True"
      ]
     },
     "execution_count": 33,
     "metadata": {},
     "output_type": "execute_result"
    }
   ],
   "source": [
    "(df3 == df).all().all() and (contexts3 == contexts).all().all()"
   ]
  }
 ],
 "metadata": {
  "kernelspec": {
   "display_name": "weighted-sims",
   "language": "python",
   "name": "python3"
  },
  "language_info": {
   "codemirror_mode": {
    "name": "ipython",
    "version": 3
   },
   "file_extension": ".py",
   "mimetype": "text/x-python",
   "name": "python",
   "nbconvert_exporter": "python",
   "pygments_lexer": "ipython3",
   "version": "3.8.0"
  }
 },
 "nbformat": 4,
 "nbformat_minor": 5
}
